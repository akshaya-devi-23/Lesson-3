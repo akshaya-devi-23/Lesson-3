{
 "cells": [
  {
   "cell_type": "markdown",
   "id": "02d9c159",
   "metadata": {
    "papermill": {
     "duration": 0.006687,
     "end_time": "2023-02-25T17:28:24.718081",
     "exception": false,
     "start_time": "2023-02-25T17:28:24.711394",
     "status": "completed"
    },
    "tags": []
   },
   "source": [
    "**This notebook is an exercise in the [Python](https://www.kaggle.com/learn/python) course.  You can reference the tutorial at [this link](https://www.kaggle.com/colinmorris/lists).**\n",
    "\n",
    "---\n"
   ]
  },
  {
   "cell_type": "markdown",
   "id": "85580c10",
   "metadata": {
    "papermill": {
     "duration": 0.00488,
     "end_time": "2023-02-25T17:28:24.728759",
     "exception": false,
     "start_time": "2023-02-25T17:28:24.723879",
     "status": "completed"
    },
    "tags": []
   },
   "source": [
    "Things get more interesting with lists. You'll apply your new knowledge to solve the questions below. Remember to run the following cell first."
   ]
  },
  {
   "cell_type": "code",
   "execution_count": 1,
   "id": "819ba1a7",
   "metadata": {
    "execution": {
     "iopub.execute_input": "2023-02-25T17:28:24.741655Z",
     "iopub.status.busy": "2023-02-25T17:28:24.740806Z",
     "iopub.status.idle": "2023-02-25T17:28:24.796321Z",
     "shell.execute_reply": "2023-02-25T17:28:24.794840Z"
    },
    "papermill": {
     "duration": 0.065444,
     "end_time": "2023-02-25T17:28:24.799339",
     "exception": false,
     "start_time": "2023-02-25T17:28:24.733895",
     "status": "completed"
    },
    "tags": []
   },
   "outputs": [
    {
     "name": "stdout",
     "output_type": "stream",
     "text": [
      "Setup complete.\n"
     ]
    }
   ],
   "source": [
    "from learntools.core import binder; binder.bind(globals())\n",
    "from learntools.python.ex4 import *\n",
    "print('Setup complete.')"
   ]
  },
  {
   "cell_type": "markdown",
   "id": "d33d44bc",
   "metadata": {
    "papermill": {
     "duration": 0.004914,
     "end_time": "2023-02-25T17:28:24.809590",
     "exception": false,
     "start_time": "2023-02-25T17:28:24.804676",
     "status": "completed"
    },
    "tags": []
   },
   "source": [
    "# 1.\n",
    "\n",
    "Complete the function below according to its docstring."
   ]
  },
  {
   "cell_type": "code",
   "execution_count": 2,
   "id": "78ac622f",
   "metadata": {
    "execution": {
     "iopub.execute_input": "2023-02-25T17:28:24.822105Z",
     "iopub.status.busy": "2023-02-25T17:28:24.821641Z",
     "iopub.status.idle": "2023-02-25T17:28:24.834847Z",
     "shell.execute_reply": "2023-02-25T17:28:24.833606Z"
    },
    "papermill": {
     "duration": 0.022787,
     "end_time": "2023-02-25T17:28:24.837519",
     "exception": false,
     "start_time": "2023-02-25T17:28:24.814732",
     "status": "completed"
    },
    "tags": []
   },
   "outputs": [
    {
     "data": {
      "application/javascript": [
       "parent.postMessage({\"jupyterEvent\": \"custom.exercise_interaction\", \"data\": {\"outcomeType\": 1, \"valueTowardsCompletion\": 0.2, \"interactionType\": 1, \"questionType\": 2, \"questionId\": \"1_SelectSecondItem\", \"learnToolsVersion\": \"0.3.4\", \"failureMessage\": \"\", \"exceptionClass\": \"\", \"trace\": \"\"}}, \"*\")"
      ],
      "text/plain": [
       "<IPython.core.display.Javascript object>"
      ]
     },
     "metadata": {},
     "output_type": "display_data"
    },
    {
     "data": {
      "text/markdown": [
       "<span style=\"color:#33cc33\">Correct</span>"
      ],
      "text/plain": [
       "Correct"
      ]
     },
     "metadata": {},
     "output_type": "display_data"
    }
   ],
   "source": [
    "def select_second(L):\n",
    "    \"\"\"Return the second element of the given list. If the list has no second\n",
    "    element, return None.\n",
    "    \"\"\"\n",
    "    if len(L)<2:\n",
    "        return None\n",
    "    return L[1]\n",
    "         \n",
    "    \n",
    "\n",
    "# Check your answer\n",
    "q1.check()"
   ]
  },
  {
   "cell_type": "code",
   "execution_count": 3,
   "id": "40c2259c",
   "metadata": {
    "execution": {
     "iopub.execute_input": "2023-02-25T17:28:24.850410Z",
     "iopub.status.busy": "2023-02-25T17:28:24.849988Z",
     "iopub.status.idle": "2023-02-25T17:28:24.864743Z",
     "shell.execute_reply": "2023-02-25T17:28:24.863325Z"
    },
    "papermill": {
     "duration": 0.024422,
     "end_time": "2023-02-25T17:28:24.867360",
     "exception": false,
     "start_time": "2023-02-25T17:28:24.842938",
     "status": "completed"
    },
    "tags": []
   },
   "outputs": [
    {
     "data": {
      "application/javascript": [
       "parent.postMessage({\"jupyterEvent\": \"custom.exercise_interaction\", \"data\": {\"interactionType\": 2, \"questionType\": 2, \"questionId\": \"1_SelectSecondItem\", \"learnToolsVersion\": \"0.3.4\", \"valueTowardsCompletion\": 0.0, \"failureMessage\": \"\", \"exceptionClass\": \"\", \"trace\": \"\", \"outcomeType\": 4}}, \"*\")"
      ],
      "text/plain": [
       "<IPython.core.display.Javascript object>"
      ]
     },
     "metadata": {},
     "output_type": "display_data"
    },
    {
     "data": {
      "text/markdown": [
       "<span style=\"color:#3366cc\">Hint:</span> Python starts counting at 0. So the second item isn't indexed with a 2"
      ],
      "text/plain": [
       "Hint: Python starts counting at 0. So the second item isn't indexed with a 2"
      ]
     },
     "metadata": {},
     "output_type": "display_data"
    },
    {
     "data": {
      "application/javascript": [
       "parent.postMessage({\"jupyterEvent\": \"custom.exercise_interaction\", \"data\": {\"interactionType\": 3, \"questionType\": 2, \"questionId\": \"1_SelectSecondItem\", \"learnToolsVersion\": \"0.3.4\", \"valueTowardsCompletion\": 0.0, \"failureMessage\": \"\", \"exceptionClass\": \"\", \"trace\": \"\", \"outcomeType\": 4}}, \"*\")"
      ],
      "text/plain": [
       "<IPython.core.display.Javascript object>"
      ]
     },
     "metadata": {},
     "output_type": "display_data"
    },
    {
     "data": {
      "text/markdown": [
       "<span style=\"color:#33cc99\">Solution:</span> \n",
       "```python\n",
       "def select_second(L):\n",
       "    if len(L) < 2:\n",
       "        return None\n",
       "    return L[1]\n",
       "```"
      ],
      "text/plain": [
       "Solution: \n",
       "```python\n",
       "def select_second(L):\n",
       "    if len(L) < 2:\n",
       "        return None\n",
       "    return L[1]\n",
       "```"
      ]
     },
     "metadata": {},
     "output_type": "display_data"
    }
   ],
   "source": [
    "q1.hint()\n",
    "q1.solution()"
   ]
  },
  {
   "cell_type": "markdown",
   "id": "a1fcbabd",
   "metadata": {
    "papermill": {
     "duration": 0.005443,
     "end_time": "2023-02-25T17:28:24.878690",
     "exception": false,
     "start_time": "2023-02-25T17:28:24.873247",
     "status": "completed"
    },
    "tags": []
   },
   "source": [
    "# 2.\n",
    "\n",
    "You are analyzing sports teams.  Members of each team are stored in a list. The Coach is the first name in the list, the captain is the second name in the list, and other players are listed after that. \n",
    "These lists are stored in another list, which starts with the best team and proceeds through the list to the worst team last.  Complete the function below to select the **captain** of the worst team."
   ]
  },
  {
   "cell_type": "code",
   "execution_count": 4,
   "id": "c5cafb49",
   "metadata": {
    "execution": {
     "iopub.execute_input": "2023-02-25T17:28:24.893223Z",
     "iopub.status.busy": "2023-02-25T17:28:24.892784Z",
     "iopub.status.idle": "2023-02-25T17:28:24.902445Z",
     "shell.execute_reply": "2023-02-25T17:28:24.901156Z"
    },
    "papermill": {
     "duration": 0.020081,
     "end_time": "2023-02-25T17:28:24.905131",
     "exception": false,
     "start_time": "2023-02-25T17:28:24.885050",
     "status": "completed"
    },
    "tags": []
   },
   "outputs": [
    {
     "data": {
      "application/javascript": [
       "parent.postMessage({\"jupyterEvent\": \"custom.exercise_interaction\", \"data\": {\"outcomeType\": 1, \"valueTowardsCompletion\": 0.2, \"interactionType\": 1, \"questionType\": 2, \"questionId\": \"2_LosingTeamCaptain\", \"learnToolsVersion\": \"0.3.4\", \"failureMessage\": \"\", \"exceptionClass\": \"\", \"trace\": \"\"}}, \"*\")"
      ],
      "text/plain": [
       "<IPython.core.display.Javascript object>"
      ]
     },
     "metadata": {},
     "output_type": "display_data"
    },
    {
     "data": {
      "text/markdown": [
       "<span style=\"color:#33cc33\">Correct</span>"
      ],
      "text/plain": [
       "Correct"
      ]
     },
     "metadata": {},
     "output_type": "display_data"
    }
   ],
   "source": [
    "def losing_team_captain(teams):\n",
    "    \"\"\"Given a list of teams, where each team is a list of names, return the 2nd player (captain)\n",
    "    from the last listed team\n",
    "    \"\"\"\n",
    "    return teams[-1][1]\n",
    "\n",
    "\n",
    "# Check your answer\n",
    "q2.check()"
   ]
  },
  {
   "cell_type": "code",
   "execution_count": 5,
   "id": "d0639647",
   "metadata": {
    "execution": {
     "iopub.execute_input": "2023-02-25T17:28:24.919402Z",
     "iopub.status.busy": "2023-02-25T17:28:24.918918Z",
     "iopub.status.idle": "2023-02-25T17:28:24.932498Z",
     "shell.execute_reply": "2023-02-25T17:28:24.931405Z"
    },
    "papermill": {
     "duration": 0.023547,
     "end_time": "2023-02-25T17:28:24.934886",
     "exception": false,
     "start_time": "2023-02-25T17:28:24.911339",
     "status": "completed"
    },
    "tags": []
   },
   "outputs": [
    {
     "data": {
      "application/javascript": [
       "parent.postMessage({\"jupyterEvent\": \"custom.exercise_interaction\", \"data\": {\"interactionType\": 2, \"questionType\": 2, \"questionId\": \"2_LosingTeamCaptain\", \"learnToolsVersion\": \"0.3.4\", \"valueTowardsCompletion\": 0.0, \"failureMessage\": \"\", \"exceptionClass\": \"\", \"trace\": \"\", \"outcomeType\": 4}}, \"*\")"
      ],
      "text/plain": [
       "<IPython.core.display.Javascript object>"
      ]
     },
     "metadata": {},
     "output_type": "display_data"
    },
    {
     "data": {
      "text/markdown": [
       "<span style=\"color:#3366cc\">Hint:</span> The last item in a list `L` can be selected with `L[-1]`. The first item in the first sublist would be selected as `L[0][0]`"
      ],
      "text/plain": [
       "Hint: The last item in a list `L` can be selected with `L[-1]`. The first item in the first sublist would be selected as `L[0][0]`"
      ]
     },
     "metadata": {},
     "output_type": "display_data"
    },
    {
     "data": {
      "application/javascript": [
       "parent.postMessage({\"jupyterEvent\": \"custom.exercise_interaction\", \"data\": {\"interactionType\": 3, \"questionType\": 2, \"questionId\": \"2_LosingTeamCaptain\", \"learnToolsVersion\": \"0.3.4\", \"valueTowardsCompletion\": 0.0, \"failureMessage\": \"\", \"exceptionClass\": \"\", \"trace\": \"\", \"outcomeType\": 4}}, \"*\")"
      ],
      "text/plain": [
       "<IPython.core.display.Javascript object>"
      ]
     },
     "metadata": {},
     "output_type": "display_data"
    },
    {
     "data": {
      "text/markdown": [
       "<span style=\"color:#33cc99\">Solution:</span> \n",
       "```python\n",
       "def losing_team_captain(teams):\n",
       "    return teams[-1][1]\n",
       "```"
      ],
      "text/plain": [
       "Solution: \n",
       "```python\n",
       "def losing_team_captain(teams):\n",
       "    return teams[-1][1]\n",
       "```"
      ]
     },
     "metadata": {},
     "output_type": "display_data"
    }
   ],
   "source": [
    "q2.hint()\n",
    "q2.solution()"
   ]
  },
  {
   "cell_type": "markdown",
   "id": "b2cd643f",
   "metadata": {
    "papermill": {
     "duration": 0.00616,
     "end_time": "2023-02-25T17:28:24.947662",
     "exception": false,
     "start_time": "2023-02-25T17:28:24.941502",
     "status": "completed"
    },
    "tags": []
   },
   "source": [
    "# 3.\n",
    "\n",
    "The next iteration of Mario Kart will feature an extra-infuriating new item, the *Purple Shell*. When used, it warps the last place racer into first place and the first place racer into last place. Complete the function below to implement the Purple Shell's effect."
   ]
  },
  {
   "cell_type": "code",
   "execution_count": 6,
   "id": "a16ce8c8",
   "metadata": {
    "execution": {
     "iopub.execute_input": "2023-02-25T17:28:24.963373Z",
     "iopub.status.busy": "2023-02-25T17:28:24.962134Z",
     "iopub.status.idle": "2023-02-25T17:28:24.972495Z",
     "shell.execute_reply": "2023-02-25T17:28:24.971196Z"
    },
    "papermill": {
     "duration": 0.021002,
     "end_time": "2023-02-25T17:28:24.975171",
     "exception": false,
     "start_time": "2023-02-25T17:28:24.954169",
     "status": "completed"
    },
    "tags": []
   },
   "outputs": [
    {
     "data": {
      "application/javascript": [
       "parent.postMessage({\"jupyterEvent\": \"custom.exercise_interaction\", \"data\": {\"outcomeType\": 1, \"valueTowardsCompletion\": 0.2, \"interactionType\": 1, \"questionType\": 2, \"questionId\": \"3_PurpleShell\", \"learnToolsVersion\": \"0.3.4\", \"failureMessage\": \"\", \"exceptionClass\": \"\", \"trace\": \"\"}}, \"*\")"
      ],
      "text/plain": [
       "<IPython.core.display.Javascript object>"
      ]
     },
     "metadata": {},
     "output_type": "display_data"
    },
    {
     "data": {
      "text/markdown": [
       "<span style=\"color:#33cc33\">Correct</span>"
      ],
      "text/plain": [
       "Correct"
      ]
     },
     "metadata": {},
     "output_type": "display_data"
    }
   ],
   "source": [
    "def purple_shell(racers):\n",
    "    \"\"\"Given a list of racers, set the first place racer (at the front of the list) to last\n",
    "    place and vice versa.\n",
    "    \n",
    "    >>> r = [\"Mario\", \"Bowser\", \"Luigi\"]\n",
    "    >>> purple_shell(r)\n",
    "    >>> r\n",
    "    [\"Luigi\", \"Bowser\", \"Mario\"]\n",
    "    \"\"\"\n",
    "    temp = racers[0]\n",
    "    racers[0] = racers[-1]\n",
    "    racers[-1] = temp\n",
    "    \n",
    "    \n",
    "\n",
    "# Check your answer\n",
    "q3.check()"
   ]
  },
  {
   "cell_type": "code",
   "execution_count": 7,
   "id": "6d3f4c7f",
   "metadata": {
    "execution": {
     "iopub.execute_input": "2023-02-25T17:28:24.991678Z",
     "iopub.status.busy": "2023-02-25T17:28:24.990447Z",
     "iopub.status.idle": "2023-02-25T17:28:25.005539Z",
     "shell.execute_reply": "2023-02-25T17:28:25.004255Z"
    },
    "papermill": {
     "duration": 0.026003,
     "end_time": "2023-02-25T17:28:25.008050",
     "exception": false,
     "start_time": "2023-02-25T17:28:24.982047",
     "status": "completed"
    },
    "tags": []
   },
   "outputs": [
    {
     "data": {
      "application/javascript": [
       "parent.postMessage({\"jupyterEvent\": \"custom.exercise_interaction\", \"data\": {\"interactionType\": 2, \"questionType\": 2, \"questionId\": \"3_PurpleShell\", \"learnToolsVersion\": \"0.3.4\", \"valueTowardsCompletion\": 0.0, \"failureMessage\": \"\", \"exceptionClass\": \"\", \"trace\": \"\", \"outcomeType\": 4}}, \"*\")"
      ],
      "text/plain": [
       "<IPython.core.display.Javascript object>"
      ]
     },
     "metadata": {},
     "output_type": "display_data"
    },
    {
     "data": {
      "text/markdown": [
       "<span style=\"color:#3366cc\">Hint:</span> Your function should change the list it receives, but not return anything\n",
       "\n",
       "To swap the list elements, think back to the code you used in the very first exercise to swap two variables."
      ],
      "text/plain": [
       "Hint: Your function should change the list it receives, but not return anything\n",
       "\n",
       "To swap the list elements, think back to the code you used in the very first exercise to swap two variables."
      ]
     },
     "metadata": {},
     "output_type": "display_data"
    },
    {
     "data": {
      "application/javascript": [
       "parent.postMessage({\"jupyterEvent\": \"custom.exercise_interaction\", \"data\": {\"interactionType\": 3, \"questionType\": 2, \"questionId\": \"3_PurpleShell\", \"learnToolsVersion\": \"0.3.4\", \"valueTowardsCompletion\": 0.0, \"failureMessage\": \"\", \"exceptionClass\": \"\", \"trace\": \"\", \"outcomeType\": 4}}, \"*\")"
      ],
      "text/plain": [
       "<IPython.core.display.Javascript object>"
      ]
     },
     "metadata": {},
     "output_type": "display_data"
    },
    {
     "data": {
      "text/markdown": [
       "<span style=\"color:#33cc99\">Solution:</span> \n",
       "```python\n",
       "def purple_shell(racers):\n",
       "    # One slick way to do the swap is x[0], x[-1] = x[-1], x[0].\n",
       "    temp = racers[0]\n",
       "    racers[0] = racers[-1]\n",
       "    racers[-1] = temp\n",
       "```"
      ],
      "text/plain": [
       "Solution: \n",
       "```python\n",
       "def purple_shell(racers):\n",
       "    # One slick way to do the swap is x[0], x[-1] = x[-1], x[0].\n",
       "    temp = racers[0]\n",
       "    racers[0] = racers[-1]\n",
       "    racers[-1] = temp\n",
       "```"
      ]
     },
     "metadata": {},
     "output_type": "display_data"
    }
   ],
   "source": [
    "q3.hint()\n",
    "q3.solution()"
   ]
  },
  {
   "cell_type": "markdown",
   "id": "33fdccb9",
   "metadata": {
    "papermill": {
     "duration": 0.007433,
     "end_time": "2023-02-25T17:28:25.023993",
     "exception": false,
     "start_time": "2023-02-25T17:28:25.016560",
     "status": "completed"
    },
    "tags": []
   },
   "source": [
    "# 4.\n",
    "\n",
    "What are the lengths of the following lists? Fill in the variable `lengths` with your predictions. (Try to make a prediction for each list *without* just calling `len()` on it.)"
   ]
  },
  {
   "cell_type": "code",
   "execution_count": 8,
   "id": "631d032a",
   "metadata": {
    "execution": {
     "iopub.execute_input": "2023-02-25T17:28:25.040870Z",
     "iopub.status.busy": "2023-02-25T17:28:25.040352Z",
     "iopub.status.idle": "2023-02-25T17:28:25.053043Z",
     "shell.execute_reply": "2023-02-25T17:28:25.051788Z"
    },
    "papermill": {
     "duration": 0.025503,
     "end_time": "2023-02-25T17:28:25.056797",
     "exception": false,
     "start_time": "2023-02-25T17:28:25.031294",
     "status": "completed"
    },
    "tags": []
   },
   "outputs": [
    {
     "data": {
      "application/javascript": [
       "parent.postMessage({\"jupyterEvent\": \"custom.exercise_interaction\", \"data\": {\"outcomeType\": 1, \"valueTowardsCompletion\": 0.2, \"interactionType\": 1, \"questionType\": 1, \"questionId\": \"4_UnderstandLen\", \"learnToolsVersion\": \"0.3.4\", \"failureMessage\": \"\", \"exceptionClass\": \"\", \"trace\": \"\"}}, \"*\")"
      ],
      "text/plain": [
       "<IPython.core.display.Javascript object>"
      ]
     },
     "metadata": {},
     "output_type": "display_data"
    },
    {
     "data": {
      "text/markdown": [
       "<span style=\"color:#33cc33\">Correct:</span> \n",
       "\n",
       "\n",
       "- a: There are three items in this list. Nothing tricky yet.\n",
       "- b: The list `[2, 3]` counts as a single item. It has one item before it. So we have 2 items in the list\n",
       "- c: The empty list has 0 items\n",
       "- d: The expression is the same as the list `[2, 3]`, which has length 2."
      ],
      "text/plain": [
       "Correct: \n",
       "\n",
       "\n",
       "- a: There are three items in this list. Nothing tricky yet.\n",
       "- b: The list `[2, 3]` counts as a single item. It has one item before it. So we have 2 items in the list\n",
       "- c: The empty list has 0 items\n",
       "- d: The expression is the same as the list `[2, 3]`, which has length 2."
      ]
     },
     "metadata": {},
     "output_type": "display_data"
    }
   ],
   "source": [
    "a = [1, 2, 3]\n",
    "b = [1, [2, 3]]\n",
    "c = []\n",
    "d = [1, 2, 3][1:]\n",
    "\n",
    "# Put your predictions in the list below. Lengths should contain 4 numbers, the\n",
    "# first being the length of a, the second being the length of b and so on.\n",
    "lengths = [3,2,0,2]\n",
    "\n",
    "# Check your answer\n",
    "q4.check()"
   ]
  },
  {
   "cell_type": "code",
   "execution_count": 9,
   "id": "c6adcafb",
   "metadata": {
    "execution": {
     "iopub.execute_input": "2023-02-25T17:28:25.074325Z",
     "iopub.status.busy": "2023-02-25T17:28:25.073825Z",
     "iopub.status.idle": "2023-02-25T17:28:25.085094Z",
     "shell.execute_reply": "2023-02-25T17:28:25.083608Z"
    },
    "papermill": {
     "duration": 0.023397,
     "end_time": "2023-02-25T17:28:25.088103",
     "exception": false,
     "start_time": "2023-02-25T17:28:25.064706",
     "status": "completed"
    },
    "tags": []
   },
   "outputs": [
    {
     "data": {
      "application/javascript": [
       "parent.postMessage({\"jupyterEvent\": \"custom.exercise_interaction\", \"data\": {\"interactionType\": 3, \"questionType\": 1, \"questionId\": \"4_UnderstandLen\", \"learnToolsVersion\": \"0.3.4\", \"valueTowardsCompletion\": 0.0, \"failureMessage\": \"\", \"exceptionClass\": \"\", \"trace\": \"\", \"outcomeType\": 4}}, \"*\")"
      ],
      "text/plain": [
       "<IPython.core.display.Javascript object>"
      ]
     },
     "metadata": {},
     "output_type": "display_data"
    },
    {
     "data": {
      "text/markdown": [
       "<span style=\"color:#33cc99\">Solution:</span> \n",
       "- a: There are three items in this list. Nothing tricky yet.\n",
       "- b: The list `[2, 3]` counts as a single item. It has one item before it. So we have 2 items in the list\n",
       "- c: The empty list has 0 items\n",
       "- d: The expression is the same as the list `[2, 3]`, which has length 2."
      ],
      "text/plain": [
       "Solution: \n",
       "- a: There are three items in this list. Nothing tricky yet.\n",
       "- b: The list `[2, 3]` counts as a single item. It has one item before it. So we have 2 items in the list\n",
       "- c: The empty list has 0 items\n",
       "- d: The expression is the same as the list `[2, 3]`, which has length 2."
      ]
     },
     "metadata": {},
     "output_type": "display_data"
    }
   ],
   "source": [
    "# line below provides some explanation\n",
    "q4.solution()"
   ]
  },
  {
   "cell_type": "markdown",
   "id": "603c5490",
   "metadata": {
    "papermill": {
     "duration": 0.007893,
     "end_time": "2023-02-25T17:28:25.104022",
     "exception": false,
     "start_time": "2023-02-25T17:28:25.096129",
     "status": "completed"
    },
    "tags": []
   },
   "source": [
    "# 5. <span title=\"A bit spicy\" style=\"color: darkgreen \">🌶️</span>\n",
    "\n",
    "We're using lists to record people who attended our party and what order they arrived in. For example, the following list represents a party with 7 guests, in which Adela showed up first and Ford was the last to arrive:\n",
    "\n",
    "    party_attendees = ['Adela', 'Fleda', 'Owen', 'May', 'Mona', 'Gilbert', 'Ford']\n",
    "\n",
    "A guest is considered 'fashionably late' if they arrived after at least half of the party's guests. However, they must not be the very last guest (that's taking it too far). In the above example, Mona and Gilbert are the only guests who were fashionably late.\n",
    "\n",
    "Complete the function below which takes a list of party attendees as well as a person, and tells us whether that person is fashionably late."
   ]
  },
  {
   "cell_type": "code",
   "execution_count": 10,
   "id": "ecab826d",
   "metadata": {
    "execution": {
     "iopub.execute_input": "2023-02-25T17:28:25.121780Z",
     "iopub.status.busy": "2023-02-25T17:28:25.121350Z",
     "iopub.status.idle": "2023-02-25T17:28:25.132839Z",
     "shell.execute_reply": "2023-02-25T17:28:25.131176Z"
    },
    "papermill": {
     "duration": 0.023403,
     "end_time": "2023-02-25T17:28:25.135390",
     "exception": false,
     "start_time": "2023-02-25T17:28:25.111987",
     "status": "completed"
    },
    "tags": []
   },
   "outputs": [
    {
     "data": {
      "application/javascript": [
       "parent.postMessage({\"jupyterEvent\": \"custom.exercise_interaction\", \"data\": {\"outcomeType\": 1, \"valueTowardsCompletion\": 0.2, \"interactionType\": 1, \"questionType\": 2, \"questionId\": \"5_FashionablyLate\", \"learnToolsVersion\": \"0.3.4\", \"failureMessage\": \"\", \"exceptionClass\": \"\", \"trace\": \"\"}}, \"*\")"
      ],
      "text/plain": [
       "<IPython.core.display.Javascript object>"
      ]
     },
     "metadata": {},
     "output_type": "display_data"
    },
    {
     "data": {
      "text/markdown": [
       "<span style=\"color:#33cc33\">Correct</span>"
      ],
      "text/plain": [
       "Correct"
      ]
     },
     "metadata": {},
     "output_type": "display_data"
    }
   ],
   "source": [
    "def fashionably_late(arrivals, name):\n",
    "    \"\"\"Given an ordered list of arrivals to the party and a name, return whether the guest with that\n",
    "    name was fashionably late.\n",
    "    \"\"\"\n",
    "    count = arrivals.index(name)\n",
    "    return count >= len(arrivals)/2 and count != len(arrivals)-1\n",
    "\n",
    "# Check your answer\n",
    "q5.check()"
   ]
  },
  {
   "cell_type": "code",
   "execution_count": 11,
   "id": "1212824e",
   "metadata": {
    "execution": {
     "iopub.execute_input": "2023-02-25T17:28:25.154910Z",
     "iopub.status.busy": "2023-02-25T17:28:25.154476Z",
     "iopub.status.idle": "2023-02-25T17:28:25.169684Z",
     "shell.execute_reply": "2023-02-25T17:28:25.168703Z"
    },
    "papermill": {
     "duration": 0.02831,
     "end_time": "2023-02-25T17:28:25.172348",
     "exception": false,
     "start_time": "2023-02-25T17:28:25.144038",
     "status": "completed"
    },
    "tags": []
   },
   "outputs": [
    {
     "data": {
      "application/javascript": [
       "parent.postMessage({\"jupyterEvent\": \"custom.exercise_interaction\", \"data\": {\"interactionType\": 2, \"questionType\": 2, \"questionId\": \"5_FashionablyLate\", \"learnToolsVersion\": \"0.3.4\", \"valueTowardsCompletion\": 0.0, \"failureMessage\": \"\", \"exceptionClass\": \"\", \"trace\": \"\", \"outcomeType\": 4}}, \"*\")"
      ],
      "text/plain": [
       "<IPython.core.display.Javascript object>"
      ]
     },
     "metadata": {},
     "output_type": "display_data"
    },
    {
     "data": {
      "text/markdown": [
       "<span style=\"color:#3366cc\">Hint:</span> Use the index method to find when the person arrived. Check whether that is a fashionably late spot given the list length (`len`). Think about 0-indexing"
      ],
      "text/plain": [
       "Hint: Use the index method to find when the person arrived. Check whether that is a fashionably late spot given the list length (`len`). Think about 0-indexing"
      ]
     },
     "metadata": {},
     "output_type": "display_data"
    },
    {
     "data": {
      "application/javascript": [
       "parent.postMessage({\"jupyterEvent\": \"custom.exercise_interaction\", \"data\": {\"interactionType\": 3, \"questionType\": 2, \"questionId\": \"5_FashionablyLate\", \"learnToolsVersion\": \"0.3.4\", \"valueTowardsCompletion\": 0.0, \"failureMessage\": \"\", \"exceptionClass\": \"\", \"trace\": \"\", \"outcomeType\": 4}}, \"*\")"
      ],
      "text/plain": [
       "<IPython.core.display.Javascript object>"
      ]
     },
     "metadata": {},
     "output_type": "display_data"
    },
    {
     "data": {
      "text/markdown": [
       "<span style=\"color:#33cc99\">Solution:</span> \n",
       "```python\n",
       "def fashionably_late(arrivals, name):\n",
       "    order = arrivals.index(name)\n",
       "    return order >= len(arrivals) / 2 and order != len(arrivals) - 1\n",
       "```"
      ],
      "text/plain": [
       "Solution: \n",
       "```python\n",
       "def fashionably_late(arrivals, name):\n",
       "    order = arrivals.index(name)\n",
       "    return order >= len(arrivals) / 2 and order != len(arrivals) - 1\n",
       "```"
      ]
     },
     "metadata": {},
     "output_type": "display_data"
    }
   ],
   "source": [
    "q5.hint()\n",
    "q5.solution()"
   ]
  },
  {
   "cell_type": "markdown",
   "id": "6319692d",
   "metadata": {
    "papermill": {
     "duration": 0.008553,
     "end_time": "2023-02-25T17:28:25.190717",
     "exception": false,
     "start_time": "2023-02-25T17:28:25.182164",
     "status": "completed"
    },
    "tags": []
   },
   "source": [
    "# Keep Going\n",
    "\n",
    "That's it for lists and tuples! Now you have the baseline knowledge to **[learn about loops](https://www.kaggle.com/colinmorris/loops-and-list-comprehensions)**, which is where lists and tuples get really interesting. "
   ]
  },
  {
   "cell_type": "markdown",
   "id": "32b3a43b",
   "metadata": {
    "papermill": {
     "duration": 0.008332,
     "end_time": "2023-02-25T17:28:25.207791",
     "exception": false,
     "start_time": "2023-02-25T17:28:25.199459",
     "status": "completed"
    },
    "tags": []
   },
   "source": [
    "---\n",
    "\n",
    "\n",
    "\n",
    "\n",
    "*Have questions or comments? Visit the [course discussion forum](https://www.kaggle.com/learn/python/discussion) to chat with other learners.*"
   ]
  }
 ],
 "metadata": {
  "kernelspec": {
   "display_name": "Python 3",
   "language": "python",
   "name": "python3"
  },
  "language_info": {
   "codemirror_mode": {
    "name": "ipython",
    "version": 3
   },
   "file_extension": ".py",
   "mimetype": "text/x-python",
   "name": "python",
   "nbconvert_exporter": "python",
   "pygments_lexer": "ipython3",
   "version": "3.7.12"
  },
  "papermill": {
   "default_parameters": {},
   "duration": 12.501239,
   "end_time": "2023-02-25T17:28:25.937947",
   "environment_variables": {},
   "exception": null,
   "input_path": "__notebook__.ipynb",
   "output_path": "__notebook__.ipynb",
   "parameters": {},
   "start_time": "2023-02-25T17:28:13.436708",
   "version": "2.4.0"
  }
 },
 "nbformat": 4,
 "nbformat_minor": 5
}
